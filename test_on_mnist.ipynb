{
  "nbformat": 4,
  "nbformat_minor": 0,
  "metadata": {
    "kernelspec": {
      "name": "python3",
      "display_name": "Python 3"
    },
    "language_info": {
      "codemirror_mode": {
        "name": "ipython",
        "version": 3
      },
      "file_extension": ".py",
      "mimetype": "text/x-python",
      "name": "python",
      "nbconvert_exporter": "python",
      "pygments_lexer": "ipython3",
      "version": "3.6.5"
    },
    "colab": {
      "name": "test_on_mnist.ipynb",
      "provenance": [],
      "collapsed_sections": [],
      "toc_visible": true,
      "include_colab_link": true
    },
    "accelerator": "GPU"
  },
  "cells": [
    {
      "cell_type": "markdown",
      "metadata": {
        "id": "view-in-github",
        "colab_type": "text"
      },
      "source": [
        "<a href=\"https://colab.research.google.com/github/unclebob7/Adabot/blob/master/test_on_mnist.ipynb\" target=\"_parent\"><img src=\"https://colab.research.google.com/assets/colab-badge.svg\" alt=\"Open In Colab\"/></a>"
      ]
    },
    {
      "cell_type": "markdown",
      "metadata": {
        "id": "CHhSUnlRC1rI",
        "colab_type": "text"
      },
      "source": [
        "# CGM on MNIST"
      ]
    },
    {
      "cell_type": "code",
      "metadata": {
        "id": "OJxUMKZYFR0w",
        "colab_type": "code",
        "colab": {
          "base_uri": "https://localhost:8080/",
          "height": 101
        },
        "outputId": "61b798f2-75ca-4e17-d859-767e10698847"
      },
      "source": [
        "!pip install torch torchvision"
      ],
      "execution_count": 1,
      "outputs": [
        {
          "output_type": "stream",
          "text": [
            "Requirement already satisfied: torch in /usr/local/lib/python3.6/dist-packages (1.3.1)\n",
            "Requirement already satisfied: torchvision in /usr/local/lib/python3.6/dist-packages (0.4.2)\n",
            "Requirement already satisfied: numpy in /usr/local/lib/python3.6/dist-packages (from torch) (1.17.5)\n",
            "Requirement already satisfied: pillow>=4.1.1 in /usr/local/lib/python3.6/dist-packages (from torchvision) (6.2.2)\n",
            "Requirement already satisfied: six in /usr/local/lib/python3.6/dist-packages (from torchvision) (1.12.0)\n"
          ],
          "name": "stdout"
        }
      ]
    },
    {
      "cell_type": "code",
      "metadata": {
        "id": "Bf6ErKDXC1rM",
        "colab_type": "code",
        "colab": {}
      },
      "source": [
        "import torch\n",
        "import torch.nn as nn\n",
        "import torch.nn.functional as F\n",
        "import torch.optim as optim\n",
        "from torchvision import datasets, transforms\n",
        "import torch.utils.data as data\n",
        "from torch.autograd import Variable\n",
        "import numpy as np\n",
        "from sklearn.metrics import accuracy_score\n",
        "import matplotlib.pyplot as plt\n",
        "from tqdm import tnrange, tqdm_notebook\n",
        "from view_bar import view_bar"
      ],
      "execution_count": 0,
      "outputs": []
    },
    {
      "cell_type": "code",
      "metadata": {
        "id": "0OFQ6GHSC1rQ",
        "colab_type": "code",
        "colab": {}
      },
      "source": [
        "BATCH_SIZE = 16\n",
        "NUM_EPOCHS = 1700"
      ],
      "execution_count": 0,
      "outputs": []
    },
    {
      "cell_type": "markdown",
      "metadata": {
        "id": "6w7ymujxC1rW",
        "colab_type": "text"
      },
      "source": [
        "## Data preprocessing"
      ]
    },
    {
      "cell_type": "code",
      "metadata": {
        "id": "0AdZJv5HC1rX",
        "colab_type": "code",
        "colab": {}
      },
      "source": [
        "# preprocessing\n",
        "standardize = transforms.Normalize(mean=[0.5], std=[0.5])\n",
        "transform_ins = transforms.Compose([transforms.ToTensor, standardize])\n",
        "\n",
        "# load mnist\n",
        "train = datasets.MNIST(root='./data', train=True, download=True, transform=transform_ins)\n",
        "test = datasets.MNIST(root='./data', train=False, download=True, transform=transform_ins)\n",
        "\n",
        "# random seed\n",
        "np.random.seed(7)\n",
        "\n",
        "# training set\n",
        "train_src = np.array(train.data)\n",
        "train_target = np.array(train.targets)  \n",
        "                         \n",
        "# test set\n",
        "test_src = np.array(test.data)\n",
        "test_target = np.array(test.targets)"
      ],
      "execution_count": 0,
      "outputs": []
    },
    {
      "cell_type": "markdown",
      "metadata": {
        "id": "bPlJM_8sC1rb",
        "colab_type": "text"
      },
      "source": [
        "## Data Exploration"
      ]
    },
    {
      "cell_type": "code",
      "metadata": {
        "id": "rAo-GFpEC1rc",
        "colab_type": "code",
        "colab": {
          "base_uri": "https://localhost:8080/",
          "height": 246
        },
        "outputId": "302442dd-7a3d-45f0-d14e-0600a024ff4a"
      },
      "source": [
        "num_img = 60\n",
        "for i in range(num_img):\n",
        "    plt.subplot(6, 10, i+1)\n",
        "    plt.axis(\"off\")\n",
        "    plt.imshow(np.array(train_src[i]).squeeze(), cmap=\"gray_r\")"
      ],
      "execution_count": 5,
      "outputs": [
        {
          "output_type": "display_data",
          "data": {
            "image/png": "[encoded data removed]",
            "text/plain": [
              "<Figure size 432x288 with 60 Axes>"
            ]
          },
          "metadata": {
            "tags": []
          }
        }
      ]
    },
    {
      "cell_type": "markdown",
      "metadata": {
        "id": "Q5neBjcAC1rj",
        "colab_type": "text"
      },
      "source": [
        "## Model construction"
      ]
    },
    {
      "cell_type": "code",
      "metadata": {
        "id": "l47Q9cGJC1rm",
        "colab_type": "code",
        "colab": {}
      },
      "source": [
        "class Net(nn.Module):\n",
        "\n",
        "    def __init__(self):\n",
        "        super(Net, self).__init__()\n",
        "        self.l1 = nn.Linear(784, 64)\n",
        "        self.l2 = nn.Linear(64, 64)\n",
        "        self.l3 = nn.Linear(64, 64)\n",
        "        self.l4 = nn.Linear(64, 64)\n",
        "        self.l5 = nn.Linear(64, 64)\n",
        "        self.l6 = nn.Linear(64, 64)\n",
        "        self.l7 = nn.Linear(64, 64)\n",
        "        self.l8 = nn.Linear(64, 64)\n",
        "        self.l9 = nn.Linear(64, 64)\n",
        "        self.l10 = nn.Linear(64, 64)\n",
        "        self.l11 = nn.Linear(64, 10)\n",
        "\n",
        "    def forward(self, x):\n",
        "        x = x.view(-1, 784)  # Flatten the data\n",
        "        latent1 = F.relu(self.l1(x))\n",
        "        latent2 = F.relu(self.l2(latent1))\n",
        "        latent3 = F.relu(self.l3(latent2))\n",
        "        latent4 = F.relu(self.l4(latent3))\n",
        "        latent5 = F.relu(self.l5(latent4))\n",
        "        latent6 = F.relu(self.l6(latent5))\n",
        "        latent7 = F.relu(self.l7(latent6))\n",
        "        latent8 = F.relu(self.l8(latent7))\n",
        "        latent9 = F.relu(self.l9(latent8))\n",
        "        latent10 = F.relu(self.l10(latent9))\n",
        "        output = F.softmax(self.l11(latent10), dim=1)\n",
        "        return latent1, latent2, latent3, latent4, latent5, latent6, latent7, latent8, latent9, latent10, output\n",
        "    \n",
        "    def hardwire(self, hw_vector):\n",
        "        \"\"\"\n",
        "        hw_vector represents the post inversed PCA vector for hardwiring\n",
        "        hw_result is the hardwired inference\n",
        "        \"\"\"\n",
        "        hw_result = F.relu(self.l11(hw_vector))\n",
        "        return hw_result"
      ],
      "execution_count": 0,
      "outputs": []
    },
    {
      "cell_type": "code",
      "metadata": {
        "scrolled": true,
        "id": "Vk0lmlaIC1rs",
        "colab_type": "code",
        "colab": {
          "base_uri": "https://localhost:8080/",
          "height": 235
        },
        "outputId": "c082e22c-5551-4da2-8c78-ae80c68a2bf3"
      },
      "source": [
        "device = torch.device(\"cuda\" if torch.cuda.is_available() else \"cpu\")\n",
        "model = Net()\n",
        "print(model)"
      ],
      "execution_count": 7,
      "outputs": [
        {
          "output_type": "stream",
          "text": [
            "Net(\n",
            "  (l1): Linear(in_features=784, out_features=64, bias=True)\n",
            "  (l2): Linear(in_features=64, out_features=64, bias=True)\n",
            "  (l3): Linear(in_features=64, out_features=64, bias=True)\n",
            "  (l4): Linear(in_features=64, out_features=64, bias=True)\n",
            "  (l5): Linear(in_features=64, out_features=64, bias=True)\n",
            "  (l6): Linear(in_features=64, out_features=64, bias=True)\n",
            "  (l7): Linear(in_features=64, out_features=64, bias=True)\n",
            "  (l8): Linear(in_features=64, out_features=64, bias=True)\n",
            "  (l9): Linear(in_features=64, out_features=64, bias=True)\n",
            "  (l10): Linear(in_features=64, out_features=64, bias=True)\n",
            "  (l11): Linear(in_features=64, out_features=10, bias=True)\n",
            ")\n"
          ],
          "name": "stdout"
        }
      ]
    },
    {
      "cell_type": "markdown",
      "metadata": {
        "id": "pSN46ExbC1rz",
        "colab_type": "text"
      },
      "source": [
        "## Optimization"
      ]
    },
    {
      "cell_type": "code",
      "metadata": {
        "id": "649NQ5prC1r1",
        "colab_type": "code",
        "colab": {}
      },
      "source": [
        "# loss_fn and optimizer nodes\n",
        "model.to(device)\n",
        "loss_fn = nn.CrossEntropyLoss()\n",
        "optimizer = optim.Adam(model.parameters(), lr=0.001)"
      ],
      "execution_count": 0,
      "outputs": []
    },
    {
      "cell_type": "code",
      "metadata": {
        "id": "2faWSrFGC1r6",
        "colab_type": "code",
        "colab": {}
      },
      "source": [
        "def print_(loss):\n",
        "    print(\"loss: {0}\".format(loss))\n",
        "    \n",
        "def acc_print(target, pred):\n",
        "    score = accuracy_score(target, np.argmax(pred.detach().numpy(), axis=1))\n",
        "    print(\"accuracy: {0}\".format(score))"
      ],
      "execution_count": 0,
      "outputs": []
    },
    {
      "cell_type": "markdown",
      "metadata": {
        "id": "aJNmAvovC1r9",
        "colab_type": "text"
      },
      "source": [
        "## Training"
      ]
    },
    {
      "cell_type": "code",
      "metadata": {
        "scrolled": true,
        "id": "Zgvra4oTC1sA",
        "colab_type": "code",
        "colab": {
          "base_uri": "https://localhost:8080/",
          "height": 34
        },
        "outputId": "f050aace-151f-486f-8673-f9ff82699f37"
      },
      "source": [
        "x_train, y_train = Variable(torch.from_numpy(train_src)).float(), Variable(torch.from_numpy(train_target)).long()\n",
        "for epoch in range(1, NUM_EPOCHS + 1):\n",
        "    x_train = x_train.to(device)\n",
        "    y_train = y_train.to(device)\n",
        "    *_, y_pred = model(x_train)\n",
        "    loss = loss_fn(y_pred, y_train)\n",
        "    y_pred_a = y_pred.detach().cpu().numpy()\n",
        "    accur = accuracy_score(y_train.detach().cpu().numpy(), np.argmax(y_pred_a, axis=1))\n",
        "    view_bar(\"training sequence: \" ,epoch, NUM_EPOCHS, accur)\n",
        "    \n",
        "    # back propagation\n",
        "    optimizer.zero_grad()\n",
        "    loss.backward() # Gradients\n",
        "    optimizer.step() # Update"
      ],
      "execution_count": 15,
      "outputs": [
        {
          "output_type": "stream",
          "text": [
            "training sequence: :[>>>>>>>>>>>>>>>>>>>>>>>>>>>>>>>>>>>>>>>>]100%\t1700/1700\t98.44%"
          ],
          "name": "stdout"
        }
      ]
    },
    {
      "cell_type": "markdown",
      "metadata": {
        "id": "WVU7YWfNNr5i",
        "colab_type": "text"
      },
      "source": [
        "**Save checkpoint**"
      ]
    },
    {
      "cell_type": "code",
      "metadata": {
        "id": "LKyLwVouN2Mj",
        "colab_type": "code",
        "colab": {}
      },
      "source": [
        "PATH = './mnist_ckpt.pth'\n",
        "torch.save(model.state_dict(), PATH)"
      ],
      "execution_count": 0,
      "outputs": []
    },
    {
      "cell_type": "markdown",
      "metadata": {
        "id": "cEIZyJPFC1sE",
        "colab_type": "text"
      },
      "source": [
        "## Testing"
      ]
    },
    {
      "cell_type": "code",
      "metadata": {
        "id": "DWfsCtZ3C1sG",
        "colab_type": "code",
        "colab": {}
      },
      "source": [
        ""
      ],
      "execution_count": 0,
      "outputs": []
    }
  ]
}